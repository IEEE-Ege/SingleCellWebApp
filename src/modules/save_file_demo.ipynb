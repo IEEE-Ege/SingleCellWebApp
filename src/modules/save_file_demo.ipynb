{
 "cells": [
  {
   "cell_type": "code",
   "execution_count": 1,
   "metadata": {},
   "outputs": [
    {
     "ename": "ModuleNotFoundError",
     "evalue": "No module named 'scanpy'",
     "output_type": "error",
     "traceback": [
      "\u001b[31m---------------------------------------------------------------------------\u001b[39m",
      "\u001b[31mModuleNotFoundError\u001b[39m                       Traceback (most recent call last)",
      "\u001b[36mCell\u001b[39m\u001b[36m \u001b[39m\u001b[32mIn[1]\u001b[39m\u001b[32m, line 1\u001b[39m\n\u001b[32m----> \u001b[39m\u001b[32m1\u001b[39m \u001b[38;5;28;01mfrom\u001b[39;00m\u001b[38;5;250m \u001b[39m\u001b[34;01mload_file\u001b[39;00m\u001b[38;5;250m \u001b[39m\u001b[38;5;28;01mimport\u001b[39;00m load_file\n\u001b[32m      2\u001b[39m \u001b[38;5;28;01mfrom\u001b[39;00m\u001b[38;5;250m \u001b[39m\u001b[34;01msave\u001b[39;00m\u001b[38;5;250m \u001b[39m\u001b[38;5;28;01mimport\u001b[39;00m save_result\n",
      "\u001b[36mFile \u001b[39m\u001b[32m~/GİT DEMO/SingleCellWebApp/src/modules/load_file.py:1\u001b[39m\n\u001b[32m----> \u001b[39m\u001b[32m1\u001b[39m \u001b[38;5;28;01mimport\u001b[39;00m\u001b[38;5;250m \u001b[39m\u001b[34;01mscanpy\u001b[39;00m\u001b[38;5;250m \u001b[39m\u001b[38;5;28;01mas\u001b[39;00m\u001b[38;5;250m \u001b[39m\u001b[34;01msc\u001b[39;00m\n\u001b[32m      3\u001b[39m \u001b[38;5;28;01mdef\u001b[39;00m\u001b[38;5;250m \u001b[39m\u001b[34mload_file\u001b[39m(file_path):\n\u001b[32m      4\u001b[39m     adata = sc.read_10x_mtx(file_path, var_names=\u001b[33m'\u001b[39m\u001b[33mgene_symbols\u001b[39m\u001b[33m'\u001b[39m, cache=\u001b[38;5;28;01mTrue\u001b[39;00m)\n",
      "\u001b[31mModuleNotFoundError\u001b[39m: No module named 'scanpy'"
     ]
    }
   ],
   "source": [
    "from load_file import load_file\n",
    "from save import save_result"
   ]
  },
  {
   "cell_type": "code",
   "execution_count": null,
   "metadata": {},
   "outputs": [
    {
     "ename": "NameError",
     "evalue": "name 'load_file' is not defined",
     "output_type": "error",
     "traceback": [
      "\u001b[31m---------------------------------------------------------------------------\u001b[39m",
      "\u001b[31mNameError\u001b[39m                                 Traceback (most recent call last)",
      "\u001b[36mCell\u001b[39m\u001b[36m \u001b[39m\u001b[32mIn[2]\u001b[39m\u001b[32m, line 2\u001b[39m\n\u001b[32m      1\u001b[39m file_path = \u001b[33m\"\u001b[39m\u001b[33m/Users/azratuncay/Downloads/filtered_gene_bc_matrices/hg19\u001b[39m\u001b[33m\"\u001b[39m\n\u001b[32m----> \u001b[39m\u001b[32m2\u001b[39m adata = \u001b[43mload_file\u001b[49m(file_path) \n\u001b[32m      3\u001b[39m results_file = \u001b[33m'\u001b[39m\u001b[33mpbmc3k.h5ad\u001b[39m\u001b[33m'\u001b[39m \n\u001b[32m      4\u001b[39m save_result(adata, results_file)\n",
      "\u001b[31mNameError\u001b[39m: name 'load_file' is not defined"
     ]
    }
   ],
   "source": [
    "file_path = \"/Users/azratuncay/Downloads/filtered_gene_bc_matrices/hg19\"\n",
    "adata = load_file(file_path) \n",
    "results_file = 'pbmc3k.h5ad' \n",
    "save_result(adata, results_file)\n",
    "results_file\n",
    "\n",
    "# We get an error regarding \"load_file is not defined\" but we do not know the reason."
   ]
  }
 ],
 "metadata": {
  "kernelspec": {
   "display_name": "Python 3",
   "language": "python",
   "name": "python3"
  },
  "language_info": {
   "codemirror_mode": {
    "name": "ipython",
    "version": 3
   },
   "file_extension": ".py",
   "mimetype": "text/x-python",
   "name": "python",
   "nbconvert_exporter": "python",
   "pygments_lexer": "ipython3",
   "version": "3.13.0"
  }
 },
 "nbformat": 4,
 "nbformat_minor": 2
}
