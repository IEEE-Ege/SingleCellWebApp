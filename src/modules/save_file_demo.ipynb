{
 "cells": [
  {
   "cell_type": "code",
   "execution_count": 17,
   "metadata": {},
   "outputs": [
    {
     "ename": "ImportError",
     "evalue": "cannot import name 'load_file' from 'load_file' (/Users/azratuncay/GİT DEMO/SingleCellWebApp/src/modules/load_file.py)",
     "output_type": "error",
     "traceback": [
      "\u001b[0;31m---------------------------------------------------------------------------\u001b[0m",
      "\u001b[0;31mImportError\u001b[0m                               Traceback (most recent call last)",
      "Cell \u001b[0;32mIn[17], line 1\u001b[0m\n\u001b[0;32m----> 1\u001b[0m \u001b[38;5;28;01mfrom\u001b[39;00m \u001b[38;5;21;01mload_file\u001b[39;00m \u001b[38;5;28;01mimport\u001b[39;00m load_file\n\u001b[1;32m      2\u001b[0m \u001b[38;5;28;01mfrom\u001b[39;00m \u001b[38;5;21;01msave\u001b[39;00m \u001b[38;5;28;01mimport\u001b[39;00m save_result\n",
      "\u001b[0;31mImportError\u001b[0m: cannot import name 'load_file' from 'load_file' (/Users/azratuncay/GİT DEMO/SingleCellWebApp/src/modules/load_file.py)"
     ]
    }
   ],
   "source": [
    "from load_file import load_file\n",
    "from save import save_result"
   ]
  },
  {
   "cell_type": "code",
   "execution_count": 15,
   "metadata": {},
   "outputs": [
    {
     "ename": "NameError",
     "evalue": "name 'load_file' is not defined",
     "output_type": "error",
     "traceback": [
      "\u001b[0;31m---------------------------------------------------------------------------\u001b[0m",
      "\u001b[0;31mNameError\u001b[0m                                 Traceback (most recent call last)",
      "Cell \u001b[0;32mIn[15], line 2\u001b[0m\n\u001b[1;32m      1\u001b[0m file_path \u001b[38;5;241m=\u001b[39m \u001b[38;5;124m\"\u001b[39m\u001b[38;5;124m/Users/azratuncay/Downloads/filtered_gene_bc_matrices/hg19\u001b[39m\u001b[38;5;124m\"\u001b[39m\n\u001b[0;32m----> 2\u001b[0m adata \u001b[38;5;241m=\u001b[39m load_file(file_path) \n\u001b[1;32m      3\u001b[0m results_file \u001b[38;5;241m=\u001b[39m \u001b[38;5;124m'\u001b[39m\u001b[38;5;124mpbmc3k.h5ad\u001b[39m\u001b[38;5;124m'\u001b[39m \n\u001b[1;32m      4\u001b[0m save_result(adata, results_file)\n",
      "\u001b[0;31mNameError\u001b[0m: name 'load_file' is not defined"
     ]
    }
   ],
   "source": [
    "file_path = \"/Users/azratuncay/Downloads/filtered_gene_bc_matrices/hg19\"\n",
    "adata = load_file(file_path) \n",
    "results_file = 'pbmc3k.h5ad' \n",
    "save_result(adata, results_file)\n",
    "results_file"
   ]
  }
 ],
 "metadata": {
  "kernelspec": {
   "display_name": "Python 3",
   "language": "python",
   "name": "python3"
  },
  "language_info": {
   "codemirror_mode": {
    "name": "ipython",
    "version": 3
   },
   "file_extension": ".py",
   "mimetype": "text/x-python",
   "name": "python",
   "nbconvert_exporter": "python",
   "pygments_lexer": "ipython3",
   "version": "3.13.0"
  }
 },
 "nbformat": 4,
 "nbformat_minor": 2
}
