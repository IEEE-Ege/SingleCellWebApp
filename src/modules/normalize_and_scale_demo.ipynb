{
 "cells": [
  {
   "cell_type": "code",
   "execution_count": 7,
   "metadata": {},
   "outputs": [],
   "source": [
    "from load_file import load_file\n",
    "from preprocessing import preprocess\n",
    "import scanpy as sc"
   ]
  },
  {
   "cell_type": "code",
   "execution_count": 6,
   "metadata": {},
   "outputs": [
    {
     "ename": "NameError",
     "evalue": "name 'load_file' is not defined",
     "output_type": "error",
     "traceback": [
      "\u001b[0;31m---------------------------------------------------------------------------\u001b[0m",
      "\u001b[0;31mNameError\u001b[0m                                 Traceback (most recent call last)",
      "Cell \u001b[0;32mIn[6], line 2\u001b[0m\n\u001b[1;32m      1\u001b[0m file_path \u001b[38;5;241m=\u001b[39m \u001b[38;5;124m\"\u001b[39m\u001b[38;5;124m/Users/azratuncay/Downloads/filtered_gene_bc_matrices/hg19\u001b[39m\u001b[38;5;124m\"\u001b[39m\n\u001b[0;32m----> 2\u001b[0m adata \u001b[38;5;241m=\u001b[39m load_file(file_path)\n\u001b[1;32m      3\u001b[0m adata \u001b[38;5;241m=\u001b[39m preprocess(adata)\n\u001b[1;32m      4\u001b[0m adata\n",
      "\u001b[0;31mNameError\u001b[0m: name 'load_file' is not defined"
     ]
    }
   ],
   "source": [
    "file_path = \"/Users/azratuncay/Downloads/filtered_gene_bc_matrices/hg19\"\n",
    "adata = load_file(file_path)\n",
    "adata = preprocess(adata)\n",
    "adata "
   ]
  }
 ],
 "metadata": {
  "kernelspec": {
   "display_name": "base",
   "language": "python",
   "name": "python3"
  },
  "language_info": {
   "codemirror_mode": {
    "name": "ipython",
    "version": 3
   },
   "file_extension": ".py",
   "mimetype": "text/x-python",
   "name": "python",
   "nbconvert_exporter": "python",
   "pygments_lexer": "ipython3",
   "version": "3.12.4"
  }
 },
 "nbformat": 4,
 "nbformat_minor": 2
}
