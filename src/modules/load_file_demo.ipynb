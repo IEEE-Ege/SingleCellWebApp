{
 "cells": [
  {
   "cell_type": "code",
   "execution_count": 5,
   "id": "787e38a9-14a5-41f1-9186-e68008bc80c3",
   "metadata": {},
   "outputs": [],
   "source": [
    "from load_file import load_file\n",
    "import scanpy as sc \n",
    "\n"
   ]
  },
  {
   "cell_type": "code",
   "execution_count": 12,
   "id": "32cc9e28-f9df-4a12-bcab-4a152fc18855",
   "metadata": {},
   "outputs": [
    {
     "data": {
      "text/plain": [
       "AnnData object with n_obs × n_vars = 2700 × 32738\n",
       "    var: 'gene_ids'"
      ]
     },
     "execution_count": 12,
     "metadata": {},
     "output_type": "execute_result"
    }
   ],
   "source": [
    "#run\n",
    "\n",
    "file_path = \"/Users/azratuncay/Downloads/filtered_gene_bc_matrices/hg19\"\n",
    "adata = load_file(file_path)\n",
    "adata \n"
   ]
  }
 ],
 "metadata": {
  "kernelspec": {
   "display_name": "base",
   "language": "python",
   "name": "python3"
  },
  "language_info": {
   "codemirror_mode": {
    "name": "ipython",
    "version": 3
   },
   "file_extension": ".py",
   "mimetype": "text/x-python",
   "name": "python",
   "nbconvert_exporter": "python",
   "pygments_lexer": "ipython3",
   "version": "3.12.4"
  }
 },
 "nbformat": 4,
 "nbformat_minor": 5
}
